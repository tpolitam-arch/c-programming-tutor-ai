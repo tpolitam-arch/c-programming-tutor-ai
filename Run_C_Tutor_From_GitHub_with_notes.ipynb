{
 "cells": [
  {
   "cell_type": "markdown",
   "id": "6a7a2c89",
   "metadata": {},
   "source": [
    "# Run C Tutor from GitHub (with notes)\n",
    "\n",
    "This notebook clones your GitHub repo, installs required packages, forces a Colab-safe model, and runs the Gradio tutor. Replace `REPO_URL` with your repository URL if different."
   ]
  },
  {
   "cell_type": "code",
   "execution_count": null,
   "id": "15106a07",
   "metadata": {},
   "outputs": [],
   "source": [
    "REPO_URL = 'https://github.com/tpolitam-arch/c-programming-tutor-ai.git'  # <-- replace if needed\n",
    "print('Repo to clone:', REPO_URL)"
   ]
  },
  {
   "cell_type": "code",
   "execution_count": null,
   "id": "728aa954",
   "metadata": {},
   "outputs": [],
   "source": [
    "# Install required Python packages (may take a minute)\n",
    "!pip install -q --upgrade pip\n",
    "!pip install -q transformers accelerate sentence-transformers faiss-cpu gradio\n",
    "print('Installed packages')"
   ]
  },
  {
   "cell_type": "code",
   "execution_count": null,
   "id": "14036d77",
   "metadata": {},
   "outputs": [],
   "source": [
    "# Force Colab-safe model and clone the repo, then run the app\n",
    "%env C_TUTOR_MODEL=microsoft/phi-3-mini-4k-instruct\n",
    "\n",
    "# Clean any previous clone and clone fresh\n",
    "!rm -rf /content/c_tutor_project_repo\n",
    "!git clone $REPO_URL /content/c_tutor_project_repo\n",
    "\n",
    "# Change into repo\n",
    "%cd /content/c_tutor_project_repo\n",
    "\n",
    "# Install requirements if present\n",
    "if [ -f requirements.txt ]; then pip install -r requirements.txt; fi\n",
    "\n",
    "# Run the app (this will print logs and provide a Gradio URL)\n",
    "!python app/c_tutor_app.py"
   ]
  }
 ],
 "metadata": {},
 "nbformat": 4,
 "nbformat_minor": 5
}
